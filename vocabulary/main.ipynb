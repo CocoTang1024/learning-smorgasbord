{
 "cells": [
  {
   "cell_type": "code",
   "execution_count": 3,
   "metadata": {},
   "outputs": [],
   "source": [
    "import xml.etree.ElementTree as ET\n",
    "\n",
    "def extract_words_from_xml(input_file, output_file):\n",
    "    # 解析XML文件\n",
    "    tree = ET.parse(input_file)\n",
    "    root = tree.getroot()\n",
    "\n",
    "    # 提取<word>标签中的内容\n",
    "    words = [item.find('word').text for item in root.findall('item') if item.find('word') is not None]\n",
    "\n",
    "    # 读取现有的words.txt中的内容，存入集合\n",
    "    try:\n",
    "        with open(output_file, 'r', encoding='utf-8') as file:\n",
    "            learned_words = set(file.read().splitlines())  # 已学习的单词集合\n",
    "    except FileNotFoundError:\n",
    "        learned_words = set()  # 如果文件不存在，初始化为空集合\n",
    "\n",
    "    # 更新集合：如果单词已存在于集合中，移除它；否则，加入集合\n",
    "    for word in words:\n",
    "        if word in learned_words:\n",
    "            learned_words.remove(word)\n",
    "        else:\n",
    "            learned_words.add(word)\n",
    "\n",
    "    # 将更新后的单词集合写回文件\n",
    "    with open(output_file, 'w', encoding='utf-8') as file:\n",
    "        for word in learned_words:\n",
    "            file.write(word + '\\n')\n",
    "\n",
    "# 输入文件和输出文件的路径\n",
    "input_file = R\"D:\\Users\\tang\\Desktop\\六级过.xml\"\n",
    "# input_file = R\".\\六级过.xml\"\n",
    "output_file = 'words.txt'\n",
    "\n",
    "# 调用函数进行操作\n",
    "extract_words_from_xml(input_file, output_file)"
   ]
  },
  {
   "cell_type": "code",
   "execution_count": 4,
   "metadata": {},
   "outputs": [
    {
     "ename": "",
     "evalue": "",
     "output_type": "error",
     "traceback": [
      "\u001b[1;31m在当前单元格或上一个单元格中执行代码时 Kernel 崩溃。\n",
      "\u001b[1;31m请查看单元格中的代码，以确定故障的可能原因。\n",
      "\u001b[1;31m单击<a href='https://aka.ms/vscodeJupyterKernelCrash'>此处</a>了解详细信息。\n",
      "\u001b[1;31m有关更多详细信息，请查看 Jupyter <a href='command:jupyter.viewOutput'>log</a>。"
     ]
    }
   ],
   "source": [
    "import xml.etree.ElementTree as ET\n",
    "\n",
    "def extract_words_from_xml(input_file, output_file):\n",
    "    # 解析XML文件\n",
    "    tree = ET.parse(input_file)\n",
    "    root = tree.getroot()\n",
    "\n",
    "    # 提取<word>标签中的内容，并去重\n",
    "    words = [item.find('word').text for item in root.findall('item') if item.find('word') is not None]\n",
    "    unique_words = sorted(set(words))  # 去重并排序\n",
    "\n",
    "    # 将去重后的单词写入输出文件\n",
    "    with open(output_file, 'w', encoding='utf-8') as file:\n",
    "        for word in unique_words:\n",
    "            file.write(word + '\\n')\n",
    "\n",
    "# 输入文件和输出文件的路径\n",
    "input_file = R\"D:\\Users\\tang\\Desktop\\六级过.xml\"\n",
    "# input_file = R\".\\六级过.xml\"\n",
    "output_file = '1.txt'\n",
    "\n",
    "# 调用函数进行操作\n",
    "extract_words_from_xml(input_file, output_file)\n"
   ]
  },
  {
   "cell_type": "code",
   "execution_count": 4,
   "metadata": {},
   "outputs": [],
   "source": [
    "import chardet\n",
    "\n",
    "def detect_encoding(file_path):\n",
    "    with open(file_path, 'rb') as f:\n",
    "        result = chardet.detect(f.read())\n",
    "        return result['encoding']\n",
    "\n",
    "def sort_words(input_file, output_file):\n",
    "    # 检测文件的编码\n",
    "    encoding = detect_encoding(input_file)\n",
    "    \n",
    "    # 根据检测到的编码读取txt文件内容\n",
    "    with open(input_file, 'r', encoding=encoding) as file:\n",
    "        words = file.read().split()  # 根据空格分隔单词\n",
    "\n",
    "    # 去重并按字母顺序排序\n",
    "    sorted_words = sorted(set(words))\n",
    "\n",
    "    # 将结果写入输出文件\n",
    "    with open(output_file, 'w', encoding='utf-8') as file:\n",
    "        for word in sorted_words:\n",
    "            file.write(word + '\\n')\n",
    "\n",
    "# 输入文件和输出文件的路径\n",
    "input_file = R\"D:\\Users\\tang\\Desktop\\单词记录.txt\"\n",
    "output_file = 'output.txt'\n",
    "\n",
    "# 调用函数进行操作\n",
    "sort_words(input_file, output_file)"
   ]
  },
  {
   "cell_type": "code",
   "execution_count": 5,
   "metadata": {},
   "outputs": [],
   "source": [
    "import re\n",
    "import chardet\n",
    "\n",
    "def detect_encoding(file_path):\n",
    "    with open(file_path, 'rb') as f:\n",
    "        result = chardet.detect(f.read())\n",
    "        return result['encoding']\n",
    "\n",
    "def extract_english_words(input_file, output_file):\n",
    "    # 检测文件的编码\n",
    "    encoding = detect_encoding(input_file)\n",
    "    \n",
    "    # 根据检测到的编码读取txt文件内容\n",
    "    with open(input_file, 'r', encoding=encoding) as file:\n",
    "        content = file.read()\n",
    "    \n",
    "    # 使用正则表达式提取所有的英语单词\n",
    "    words = re.findall(r'\\b[a-zA-Z]+\\b', content)\n",
    "    \n",
    "    # 去重并按字母顺序排序\n",
    "    sorted_words = sorted(set(words))\n",
    "    \n",
    "    # 将结果写入输出文件\n",
    "    with open(output_file, 'w', encoding='utf-8') as file:\n",
    "        for word in sorted_words:\n",
    "            file.write(word + '\\n')\n",
    "\n",
    "# 输入文件和输出文件的路径\n",
    "input_file = R\"D:\\Users\\tang\\Desktop\\单词记录.txt\"\n",
    "output_file = 'output.txt'\n",
    "\n",
    "# 调用函数进行操作\n",
    "extract_english_words(input_file, output_file)\n"
   ]
  },
  {
   "cell_type": "code",
   "execution_count": 3,
   "metadata": {},
   "outputs": [
    {
     "name": "stdout",
     "output_type": "stream",
     "text": [
      "Collecting chardet\n",
      "  Downloading chardet-5.2.0-py3-none-any.whl (199 kB)\n",
      "Installing collected packages: chardet\n",
      "Successfully installed chardet-5.2.0\n",
      "Note: you may need to restart the kernel to use updated packages.\n"
     ]
    },
    {
     "name": "stderr",
     "output_type": "stream",
     "text": [
      "WARNING: You are using pip version 20.1.1; however, version 24.0 is available.\n",
      "You should consider upgrading via the 'c:\\Users\\tang\\AppData\\Local\\Programs\\Python\\Python37\\python.exe -m pip install --upgrade pip' command.\n"
     ]
    }
   ],
   "source": [
    "pip install chardet"
   ]
  },
  {
   "cell_type": "code",
   "execution_count": null,
   "metadata": {},
   "outputs": [],
   "source": []
  }
 ],
 "metadata": {
  "kernelspec": {
   "display_name": "Python 3",
   "language": "python",
   "name": "python3"
  },
  "language_info": {
   "codemirror_mode": {
    "name": "ipython",
    "version": 3
   },
   "file_extension": ".py",
   "mimetype": "text/x-python",
   "name": "python",
   "nbconvert_exporter": "python",
   "pygments_lexer": "ipython3",
   "version": "3.7.9"
  }
 },
 "nbformat": 4,
 "nbformat_minor": 2
}
