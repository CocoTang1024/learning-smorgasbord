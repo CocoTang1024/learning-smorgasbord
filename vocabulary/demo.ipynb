{
 "cells": [
  {
   "cell_type": "code",
   "execution_count": 1,
   "metadata": {},
   "outputs": [
    {
     "name": "stdout",
     "output_type": "stream",
     "text": [
      "Processing complete. Output saved to 'output.txt'.\n"
     ]
    }
   ],
   "source": [
    "import re\n",
    "\n",
    "def process_text_file(input_file, output_file):\n",
    "    # 打开输入文件和输出文件\n",
    "    with open(input_file, 'r', encoding='utf-8') as infile, open(output_file, 'w', encoding='utf-8') as outfile:\n",
    "        for line in infile:\n",
    "            # 使用正则表达式替换所有的 ',' 和 '.' 为换行符\n",
    "            processed_line = re.sub(r'[,.]', '\\n', line)\n",
    "            # 将处理后的内容写入输出文件\n",
    "            outfile.write(processed_line)\n",
    "\n",
    "    print(f\"Processing complete. Output saved to '{output_file}'.\")\n",
    "\n",
    "# 调用函数，传入输入和输出文件路径\n",
    "input_file = 'merged_output.txt'  # 输入文件名\n",
    "output_file = 'output.txt'  # 输出文件名\n",
    "process_text_file(input_file, output_file)\n"
   ]
  },
  {
   "cell_type": "code",
   "execution_count": null,
   "metadata": {},
   "outputs": [],
   "source": []
  }
 ],
 "metadata": {
  "kernelspec": {
   "display_name": "Python 3",
   "language": "python",
   "name": "python3"
  },
  "language_info": {
   "codemirror_mode": {
    "name": "ipython",
    "version": 3
   },
   "file_extension": ".py",
   "mimetype": "text/x-python",
   "name": "python",
   "nbconvert_exporter": "python",
   "pygments_lexer": "ipython3",
   "version": "3.7.9"
  }
 },
 "nbformat": 4,
 "nbformat_minor": 2
}
