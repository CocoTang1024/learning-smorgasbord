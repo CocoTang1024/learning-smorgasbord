{
 "cells": [
  {
   "cell_type": "code",
   "execution_count": 2,
   "metadata": {},
   "outputs": [
    {
     "name": "stdout",
     "output_type": "stream",
     "text": [
      "所有文件处理完成！\n"
     ]
    }
   ],
   "source": [
    "import os\n",
    "import subprocess\n",
    "from pathlib import Path\n",
    "\n",
    "# 定义whisper可执行文件路径\n",
    "WHISPER_EXE_PATH = r\"D:\\Miniconda3\\envs\\whisper_py310\\Scripts\\insanely-fast-whisper.exe\"\n",
    "\n",
    "# 获取当前工作目录\n",
    "current_dir = Path(r\"E:\\00-新疆中石油数据\\00-视频数据\\01-山地下药-55-110\")\n",
    "\n",
    "# 创建txt文件夹\n",
    "output_dir = current_dir.parent / \"txt\"\n",
    "output_dir.mkdir(exist_ok=True)\n",
    "\n",
    "# 获取所有mp4文件\n",
    "mp4_files = list(current_dir.glob(\"*.mp4\"))\n",
    "\n",
    "# 遍历每个mp4文件\n",
    "for mp4_file in mp4_files:\n",
    "    # 转换mp4到wav\n",
    "    wav_file = mp4_file.with_suffix(\".wav\")\n",
    "    command = [\n",
    "        \"ffmpeg\",\n",
    "        \"-i\", str(mp4_file),\n",
    "        \"-vn\",\n",
    "        \"-acodec\", \"pcm_s16le\",\n",
    "        \"-ar\", \"16000\",\n",
    "        \"-ac\", \"1\",\n",
    "        str(wav_file)\n",
    "    ]\n",
    "    subprocess.run(command, check=True)\n",
    "\n",
    "    # 构建whisper命令\n",
    "    whisper_command = [\n",
    "        WHISPER_EXE_PATH,\n",
    "        \"--file-name\", str(wav_file),\n",
    "        \"--transcript-path\", str(output_dir / (mp4_file.stem + \".txt\")),\n",
    "        \"--language\", \"zh\",\n",
    "        \"--model-name\", \"openai/whisper-large-v3-turbo\"\n",
    "    ]\n",
    "\n",
    "    # 执行whisper命令\n",
    "    subprocess.run(whisper_command, check=True)\n",
    "\n",
    "    # 删除临时wav文件（可选）\n",
    "    os.remove(wav_file)\n",
    "\n",
    "print(\"所有文件处理完成！\")\n"
   ]
  },
  {
   "cell_type": "code",
   "execution_count": null,
   "metadata": {},
   "outputs": [],
   "source": []
  }
 ],
 "metadata": {
  "kernelspec": {
   "display_name": "whisper_py310",
   "language": "python",
   "name": "python3"
  },
  "language_info": {
   "codemirror_mode": {
    "name": "ipython",
    "version": 3
   },
   "file_extension": ".py",
   "mimetype": "text/x-python",
   "name": "python",
   "nbconvert_exporter": "python",
   "pygments_lexer": "ipython3",
   "version": "3.10.16"
  }
 },
 "nbformat": 4,
 "nbformat_minor": 2
}
