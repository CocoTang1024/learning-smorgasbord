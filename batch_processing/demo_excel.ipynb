{
 "cells": [
  {
   "cell_type": "code",
   "execution_count": 2,
   "metadata": {},
   "outputs": [
    {
     "name": "stdout",
     "output_type": "stream",
     "text": [
      "文件名已成功写入 G:\\00-新疆中石油数据\\00-视频数据\\01-山地下药-55-110\\文件列表.xlsx\n"
     ]
    }
   ],
   "source": [
    "import os\n",
    "import pandas as pd\n",
    "\n",
    "# 定义目录路径\n",
    "directory = r'G:\\00-新疆中石油数据\\00-视频数据\\01-山地下药-55-110'\n",
    "\n",
    "# 获取目录下所有文件名并排序\n",
    "files = sorted(os.listdir(directory))\n",
    "\n",
    "# 创建一个数据框，将文件名存储在第A列\n",
    "df = pd.DataFrame(files, columns=['文件名'])\n",
    "\n",
    "# 将数据框写入Excel文件\n",
    "output_file = os.path.join(directory, '文件列表.xlsx')\n",
    "df.to_excel(output_file, index=False)\n",
    "\n",
    "print(f\"文件名已成功写入 {output_file}\")"
   ]
  },
  {
   "cell_type": "code",
   "execution_count": null,
   "metadata": {},
   "outputs": [],
   "source": []
  }
 ],
 "metadata": {
  "kernelspec": {
   "display_name": "whisper_py310",
   "language": "python",
   "name": "python3"
  },
  "language_info": {
   "codemirror_mode": {
    "name": "ipython",
    "version": 3
   },
   "file_extension": ".py",
   "mimetype": "text/x-python",
   "name": "python",
   "nbconvert_exporter": "python",
   "pygments_lexer": "ipython3",
   "version": "3.10.16"
  }
 },
 "nbformat": 4,
 "nbformat_minor": 2
}
