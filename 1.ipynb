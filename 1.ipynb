{
 "cells": [
  {
   "cell_type": "code",
   "execution_count": 1,
   "metadata": {},
   "outputs": [
    {
     "ename": "SyntaxError",
     "evalue": "(unicode error) 'unicodeescape' codec can't decode bytes in position 2-3: truncated \\UXXXXXXXX escape (2215524480.py, line 21)",
     "output_type": "error",
     "traceback": [
      "\u001b[1;36m  Cell \u001b[1;32mIn[1], line 21\u001b[1;36m\u001b[0m\n\u001b[1;33m    folder_path = \"D:\\Users\\tang\\Downloads\\Pictures\\iCloud 202306 - 202408\\iCloud Photos\"\u001b[0m\n\u001b[1;37m                                                                                         ^\u001b[0m\n\u001b[1;31mSyntaxError\u001b[0m\u001b[1;31m:\u001b[0m (unicode error) 'unicodeescape' codec can't decode bytes in position 2-3: truncated \\UXXXXXXXX escape\n"
     ]
    }
   ],
   "source": [
    "#!/usr/bin/env python3\n",
    "import os\n",
    "import re\n",
    "import sys\n",
    "\n",
    "def rename_files(directory):\n",
    "    for filename in os.listdir(directory):\n",
    "        new_name = re.sub(r'\\(1\\)', '', filename)  # 去掉 (1)\n",
    "        old_path = os.path.join(directory, filename)\n",
    "        new_path = os.path.join(directory, new_name)\n",
    "        \n",
    "        if old_path != new_path:\n",
    "            try:\n",
    "                os.rename(old_path, new_path)\n",
    "                print(f'Renamed: {filename} -> {new_name}')\n",
    "            except Exception as e:\n",
    "                print(f'Error renaming {filename}: {e}')\n",
    "\n",
    "if __name__ == \"__main__\":\n",
    "    \n",
    "    folder_path = \"D:\\\\Users\\\\tang\\\\Downloads\\\\Pictures\\\\iCloud 202306 - 202408\\\\iCloud Photos\"\n",
    "    rename_files(folder_path)\n",
    "\n",
    "\n"
   ]
  },
  {
   "cell_type": "code",
   "execution_count": null,
   "metadata": {},
   "outputs": [],
   "source": []
  }
 ],
 "metadata": {
  "kernelspec": {
   "display_name": "base",
   "language": "python",
   "name": "python3"
  },
  "language_info": {
   "codemirror_mode": {
    "name": "ipython",
    "version": 3
   },
   "file_extension": ".py",
   "mimetype": "text/x-python",
   "name": "python",
   "nbconvert_exporter": "python",
   "pygments_lexer": "ipython3",
   "version": "3.9.19"
  }
 },
 "nbformat": 4,
 "nbformat_minor": 2
}
